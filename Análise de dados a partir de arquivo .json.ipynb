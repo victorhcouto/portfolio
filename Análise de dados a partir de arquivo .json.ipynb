{
 "cells": [
  {
   "cell_type": "markdown",
   "metadata": {},
   "source": [
    "# ANÁLISE COMPORTAMENTO DE COMPRA A PARTIR DE UM ARQUIVO .JSON"
   ]
  },
  {
   "cell_type": "code",
   "execution_count": null,
   "metadata": {},
   "outputs": [],
   "source": [
    "import pandas as pd\n",
    "import numpy as np"
   ]
  },
  {
   "cell_type": "code",
   "execution_count": null,
   "metadata": {},
   "outputs": [],
   "source": [
    "#carrega arquivo .json do diretório\n",
    "\n",
    "load_file = \"dados_compras.json\"\n",
    "purchase_file = pd.read_json(load_file, orient = \"records\")\n",
    "purchase_file.head()"
   ]
  },
  {
   "cell_type": "code",
   "execution_count": null,
   "metadata": {},
   "outputs": [],
   "source": [
    "player_demographics = purchase_file.loc[:, [\"Sexo\", \"Login\", \"Idade\"]]\n",
    "player_demographics.head()"
   ]
  },
  {
   "cell_type": "code",
   "execution_count": null,
   "metadata": {},
   "outputs": [],
   "source": [
    "#limpeza de dados\n",
    "\n",
    "player_demographics = player_demographics.drop_duplicates()\n",
    "player_count = player_demographics.count()[0]\n",
    "player_count"
   ]
  },
  {
   "cell_type": "code",
   "execution_count": null,
   "metadata": {},
   "outputs": [],
   "source": [
    "pd.DataFrame({\"Total de Jogadores\" : [player_count]})"
   ]
  },
  {
   "cell_type": "code",
   "execution_count": null,
   "metadata": {},
   "outputs": [],
   "source": [
    "#dados gerais de compra\n",
    "\n",
    "average_item_price = purchase_file[\"Valor\"].mean()\n",
    "total_item_price = purchase_file[\"Valor\"].sum()\n",
    "total_item_count = purchase_file[\"Valor\"].count()\n",
    "item_id = len(purchase_file[\"Item ID\"].unique())"
   ]
  },
  {
   "cell_type": "code",
   "execution_count": null,
   "metadata": {},
   "outputs": [],
   "source": [
    "#dataframe\n",
    "summary_calculations = pd.DataFrame({\"Número de Itens Únicos\" : item_id,\n",
    "                                     \"Número de Compras\" : total_item_count, \n",
    "                                     \"Total de Vendas\" : total_item_price, \n",
    "                                     \"Preço Médio\" : [average_item_price]})"
   ]
  },
  {
   "cell_type": "code",
   "execution_count": null,
   "metadata": {},
   "outputs": [],
   "source": [
    "#data munging\n",
    "\n",
    "summary_calculations = summary_calculations.round(2)\n",
    "summary_calculations [\"Preço Médio\"] = summary_calculations[\"Preço Médio\"].map(\"${:,.2f}\".format)\n",
    "summary_calculations [\"Total de Vendas\"] = summary_calculations[\"Total de Vendas\"].map(\"${:,.2f}\".format)\n",
    "summary_calculations = summary_calculations.loc[:, [\"Número de Itens Únicos\", \"Preço Médio\", \"Número de Compras\", \"Total de Vendas\"]]\n",
    "\n",
    "summary_calculations\n",
    "\n",
    "purchase_file[\"Item ID\"].unique()"
   ]
  },
  {
   "cell_type": "code",
   "execution_count": null,
   "metadata": {},
   "outputs": [],
   "source": [
    "#dados\n",
    "\n",
    "#informação de gênero\n",
    "gender_count = player_demographics[\"Sexo\"].value_counts()\n",
    "gender_percent = (gender_count / player_count) * 100\n",
    "\n",
    "\n",
    "gender_demographics = pd.DataFrame({\"Sexo\" : gender_count, \n",
    "                                    \"%\" : gender_percent})\n",
    "\n",
    "#data munging\n",
    "gender_demographics = gender_demographics.round(2)\n",
    "gender_demographics [\"%\"] = gender_demographics[\"%\"].map(\"{:,.1f}%\".format)"
   ]
  },
  {
   "cell_type": "code",
   "execution_count": null,
   "metadata": {},
   "outputs": [],
   "source": [
    "gender_count\n",
    "gender_percent\n",
    "gender_demographics"
   ]
  },
  {
   "cell_type": "code",
   "execution_count": null,
   "metadata": {},
   "outputs": [],
   "source": [
    "#análise de gênero comprador\n",
    "\n",
    "#agrupando\n",
    "gender_total_item_price = purchase_file.groupby([\"Sexo\"]).sum()[\"Valor\"].rename(\"Total de Vendas\")\n",
    "gender_average_item_price = purchase_file.groupby([\"Sexo\"]).mean()[\"Valor\"].rename(\"Average Price\")\n",
    "purchase_count = purchase_file.groupby([\"Sexo\"]).count()[\"Valor\"].rename(\"Número de Compras\")\n",
    "normalized_total = gender_total_item_price / gender_demographics[\"Sexo\"]\n",
    "\n",
    "#resultado em um Dataframe\n",
    "gender_purchasing_analysis = pd.DataFrame({\"Número de Compras\" : purchase_count, \n",
    "                                           \"Valor Médio Por Item\" : gender_average_item_price, \n",
    "                                           \"Total de Vendas\" : gender_total_item_price, \n",
    "                                           \"Total Normalizado\" : normalized_total})\n",
    "\n",
    "#data munging\n",
    "gender_purchasing_analysis = gender_purchasing_analysis.round(2)\n",
    "gender_purchasing_analysis [\"Valor Médio Por Item\"] = gender_purchasing_analysis[\"Valor Médio Por Item\"].map(\"${:,.2f}\".format)\n",
    "gender_purchasing_analysis [\"Total de Vendas\"] = gender_purchasing_analysis[\"Total de Vendas\"].map(\"${:,.2f}\".format)\n",
    "gender_purchasing_analysis [\"Total Normalizado\"] = gender_purchasing_analysis[\"Total Normalizado\"].map(\"${:,.2f}\".format)"
   ]
  },
  {
   "cell_type": "code",
   "execution_count": null,
   "metadata": {},
   "outputs": [],
   "source": [
    "gender_total_item_price"
   ]
  },
  {
   "cell_type": "code",
   "execution_count": null,
   "metadata": {},
   "outputs": [],
   "source": [
    "gender_average_item_price"
   ]
  },
  {
   "cell_type": "code",
   "execution_count": null,
   "metadata": {},
   "outputs": [],
   "source": [
    "gender_purchasing_analysis"
   ]
  },
  {
   "cell_type": "code",
   "execution_count": null,
   "metadata": {},
   "outputs": [],
   "source": [
    "normalized_total"
   ]
  },
  {
   "cell_type": "code",
   "execution_count": null,
   "metadata": {},
   "outputs": [],
   "source": [
    "#análise demográfica\n",
    "player_demographics"
   ]
  },
  {
   "cell_type": "code",
   "execution_count": null,
   "metadata": {},
   "outputs": [],
   "source": [
    "#cálculos básicos\n",
    "age_bins = [0, 9.99, 14.99, 19.99, 24.99, 29.99, 34.99, 39.99, 999]\n",
    "age_bracket = [\"Menos de 10\", \"10 a 14\", \"15 a 19\", \"20 a 24\", \"25 a 29\", \"30 a 34\", \"35 a 39\", \"Mais de 40\"]\n",
    "\n",
    "purchase_file[\"Range de Idades\"] = pd.cut(purchase_file[\"Idade\"], age_bins, labels=age_bracket)\n",
    "\n",
    "#cálculos básicos\n",
    "age_demographics_count = purchase_file[\"Range de Idades\"].value_counts()\n",
    "age_demographics_average_item_price = purchase_file.groupby([\"Range de Idades\"]).mean()[\"Valor\"]\n",
    "age_demographics_total_item_price = purchase_file.groupby([\"Range de Idades\"]).sum()[\"Valor\"]\n",
    "age_demographics_percent = (age_demographics_count / player_count) * 100\n",
    "\n",
    "#dataframe dos resultados\n",
    "age_demographics = pd.DataFrame({\"Contagem\": age_demographics_count, \"%\": age_demographics_percent, \"Valor Unitario\": age_demographics_average_item_price, \"Valor Total de Compra\": age_demographics_total_item_price})\n",
    "\n",
    "#data munging\n",
    "age_demographics [\"Valor Unitario\"] = age_demographics[\"Valor Unitario\"].map(\"${:,.2f}\".format)\n",
    "age_demographics [\"Valor Total de Compra\"] = age_demographics[\"Valor Total de Compra\"].map(\"${:,.2f}\".format)\n",
    "age_demographics [\"%\"] = age_demographics[\"%\"].map(\"{:,.2f}%\".format)"
   ]
  },
  {
   "cell_type": "code",
   "execution_count": null,
   "metadata": {},
   "outputs": [],
   "source": [
    "player_demographics.head()"
   ]
  },
  {
   "cell_type": "code",
   "execution_count": null,
   "metadata": {},
   "outputs": [],
   "source": [
    "age_demographics = age_demographics.sort_index()\n",
    "age_demographics"
   ]
  },
  {
   "cell_type": "code",
   "execution_count": null,
   "metadata": {},
   "outputs": [],
   "source": [
    "#maiores compradores\n",
    "\n",
    "#cálculos\n",
    "user_total = purchase_file.groupby([\"Login\"]).sum()[\"Valor\"].rename(\"Valor Total de Compra\")\n",
    "user_average = purchase_file.groupby([\"Login\"]).mean()[\"Valor\"].rename(\"Valor Médio de Compra\")\n",
    "user_count = purchase_file.groupby([\"Login\"]).count()[\"Valor\"].rename(\"Número de Compras\")\n",
    "\n",
    "#dataframe\n",
    "user_data = pd.DataFrame({\"Valor Total de Compra\": user_total, \"Valor Médio de Compra\": user_average, \"Número de Compras\": user_count})\n",
    "\n",
    "#data munging\n",
    "user_data [\"Valor Total de Compra\"] = user_data[\"Valor Total de Compra\"].map(\"${:,.2f}\".format)\n",
    "user_data [\"Valor Médio de Compra\"] = user_data[\"Valor Médio de Compra\"].map(\"${:,.2f}\".format)\n",
    "user_data.sort_values(\"Valor Total de Compra\", ascending=False).head(5)"
   ]
  },
  {
   "cell_type": "code",
   "execution_count": null,
   "metadata": {},
   "outputs": [],
   "source": [
    "user_data"
   ]
  },
  {
   "cell_type": "code",
   "execution_count": null,
   "metadata": {},
   "outputs": [],
   "source": [
    "#mais comprados\n",
    "\n",
    "#cálculos\n",
    "user_total = purchase_file.groupby([\"Nome do Item\"]).sum()[\"Valor\"].rename(\"Valor Total de Compra\")\n",
    "user_average = purchase_file.groupby([\"Nome do Item\"]).mean()[\"Valor\"].rename(\"Valor Médio de Compra\")\n",
    "user_count = purchase_file.groupby([\"Nome do Item\"]).count()[\"Valor\"].rename(\"Número de Compras\")\n",
    "\n",
    "#dataframe\n",
    "user_data = pd.DataFrame({\"Valor Total de Compra\": user_total, \"Valor Médio de Compra\": user_average, \"Número de Compras\": user_count})\n",
    "\n",
    "#data munging\n",
    "user_data [\"Valor Total de Compra\"] = user_data[\"Valor Total de Compra\"].map(\"${:,.2f}\".format)\n",
    "user_data [\"Valor Médio de Compra\"] = user_data[\"Valor Médio de Compra\"].map(\"${:,.2f}\".format)\n",
    "user_data.sort_values(\"Número de Compras\", ascending=False).head(5)"
   ]
  },
  {
   "cell_type": "code",
   "execution_count": null,
   "metadata": {},
   "outputs": [],
   "source": [
    "#itens mais lucrativos\n",
    "\n",
    "#cálculos\n",
    "user_total = purchase_file.groupby([\"Nome do Item\"]).sum()[\"Valor\"].rename(\"Valor Total de Compra\")\n",
    "user_average = purchase_file.groupby([\"Nome do Item\"]).mean()[\"Valor\"].rename(\"Valor Médio de Compra\")\n",
    "user_count = purchase_file.groupby([\"Nome do Item\"]).count()[\"Valor\"].rename(\"Número de Compras\")\n",
    "\n",
    "#dataframe \n",
    "user_data = pd.DataFrame({\"Valor Total de Compra\": user_total, \"Valor Médio de Compra\": user_average, \\\n",
    "                          \"Número de Compras\": user_count})\n",
    "\n",
    "#data munging\n",
    "user_data [\"Valor Total Compra\"] = user_data[\"Valor Total de Compra\"]\n",
    "user_data [\"Valor Total de Compra\"] = user_data[\"Valor Total de Compra\"].map(\"${:,.2f}\".format)\n",
    "user_data [\"Valor Médio de Compra\"] = user_data[\"Valor Médio de Compra\"].map(\"${:,.2f}\".format)\n",
    "\n",
    "\n",
    "display(user_data.sort_values(\"Valor Total Compra\", ascending=False).head(5)[ \\\n",
    "    ['Valor Total de Compra','Valor Médio de Compra','Número de Compras']])"
   ]
  }
 ],
 "metadata": {
  "kernelspec": {
   "display_name": "Python 3",
   "language": "python",
   "name": "python3"
  },
  "language_info": {
   "codemirror_mode": {
    "name": "ipython",
    "version": 3
   },
   "file_extension": ".py",
   "mimetype": "text/x-python",
   "name": "python",
   "nbconvert_exporter": "python",
   "pygments_lexer": "ipython3",
   "version": "3.8.3"
  }
 },
 "nbformat": 4,
 "nbformat_minor": 4
}
