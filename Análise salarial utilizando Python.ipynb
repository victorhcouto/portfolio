{
 "cells": [
  {
   "cell_type": "markdown",
   "metadata": {},
   "source": [
    "# Análise de dos dados disponibilizados pela freecodecamp.com sobre usuários"
   ]
  },
  {
   "cell_type": "code",
   "execution_count": null,
   "metadata": {},
   "outputs": [],
   "source": [
    "import numpy as np\n",
    "import pandas as pd\n",
    "import matplotlib as mat\n",
    "import matplotlib.pyplot as plt\n",
    "import colorsys\n",
    "plt.style.use('seaborn-talk')\n",
    "import warnings\n",
    "warnings.filterwarnings(\"ignore\")\n",
    "%matplotlib inline"
   ]
  },
  {
   "cell_type": "code",
   "execution_count": null,
   "metadata": {},
   "outputs": [],
   "source": [
    "df = pd.read_csv(\"Dados-Pesquisa.csv\", sep = ',', low_memory=False)"
   ]
  },
  {
   "cell_type": "code",
   "execution_count": null,
   "metadata": {},
   "outputs": [],
   "source": [
    "df.Age.hist(bins = 60)\n",
    "plt.xlabel(\"Idade\")\n",
    "plt.ylabel(\"Número de Profissionais\")\n",
    "plt.title(\"Distribuição de Idade\")\n",
    "plt.show()"
   ]
  },
  {
   "cell_type": "code",
   "execution_count": null,
   "metadata": {},
   "outputs": [],
   "source": [
    "labels = df.Gender.value_counts().index\n",
    "num = len(df.EmploymentField.value_counts().index)\n",
    "\n",
    "\n",
    "listaHSV = [(x*1.0/num, 0.5, 0.5) for x in range(num)]\n",
    "listaRGB = list(map(lambda x: colorsys.hsv_to_rgb(*x), listaHSV))\n",
    "\n",
    "\n",
    "fatias, texto = plt.pie(df.Gender.value_counts(), colors = listaRGB, startangle = 90)\n",
    "plt.axes().set_aspect('equal', 'datalim')\n",
    "plt.legend(fatias, labels, bbox_to_anchor = (1.05,1))\n",
    "plt.title(\"Sexo\")\n",
    "plt.show()"
   ]
  },
  {
   "cell_type": "code",
   "execution_count": null,
   "metadata": {},
   "outputs": [],
   "source": [
    "num = len(df.JobRoleInterest.value_counts().index)\n",
    "\n",
    "\n",
    "listaHSV = [(x*1.0/num, 0.5, 0.5) for x in range(num)]\n",
    "listaRGB = list(map(lambda x: colorsys.hsv_to_rgb(*x), listaHSV))\n",
    "labels = df.JobRoleInterest.value_counts().index\n",
    "colors = ['OliveDrab', 'Orange', 'OrangeRed', 'DarkCyan', 'Salmon', 'Sienna', 'Maroon', 'LightSlateGrey', 'DimGray']\n",
    "\n",
    "\n",
    "fatias, texto = plt.pie(df.JobRoleInterest.value_counts(), colors = listaRGB, startangle = 90)\n",
    "plt.axes().set_aspect('equal', 'datalim')\n",
    "plt.legend(fatias, labels, bbox_to_anchor = (1.25, 1))\n",
    "plt.title(\"Interesse Profissional\")\n",
    "plt.show()"
   ]
  },
  {
   "cell_type": "code",
   "execution_count": null,
   "metadata": {},
   "outputs": [],
   "source": [
    "num = len(df.EmploymentField.value_counts().index)\n",
    "\n",
    "\n",
    "listaHSV = [(x*1.0/num, 0.5, 0.5) for x in range(num)]\n",
    "listaRGB = list(map(lambda x: colorsys.hsv_to_rgb(*x), listaHSV))\n",
    "labels = df.EmploymentField.value_counts().index\n",
    "\n",
    "\n",
    "fatias, texto = plt.pie(df.EmploymentField.value_counts(), colors = listaRGB, startangle = 90)\n",
    "plt.axes().set_aspect('equal', 'datalim')\n",
    "plt.legend(fatias, labels, bbox_to_anchor = (1.3, 1))\n",
    "plt.title(\"Área de trabalho Atual\")\n",
    "plt.show()"
   ]
  },
  {
   "cell_type": "code",
   "execution_count": null,
   "metadata": {},
   "outputs": [],
   "source": [
    "df_ageranges = df.copy()\n",
    "bins=[0, 20, 30, 40, 50, 60, 100]\n",
    "\n",
    "df_ageranges['AgeRanges'] = pd.cut(df_ageranges['Age'], \n",
    "                                   bins, \n",
    "                                   labels=[\"< 20\", \"20-30\", \"30-40\", \"40-50\", \"50-60\", \"< 60\"]) \n",
    "\n",
    "df2 = pd.crosstab(df_ageranges.AgeRanges, \n",
    "                  df_ageranges.JobPref).apply(lambda r: r/r.sum(), axis=1)\n",
    "\n",
    "\n",
    "num = len(df_ageranges.AgeRanges.value_counts().index)\n",
    "\n",
    "\n",
    "listaHSV = [(x*1.0/num, 0.5, 0.5) for x in range(num)]\n",
    "listaRGB = list(map(lambda x: colorsys.hsv_to_rgb(*x), listaHSV))\n",
    "\n",
    "\n",
    "ax1 = df2.plot(kind = \"bar\", stacked = True, color = listaRGB, title = \"Preferência de Trabalho por Idade\")\n",
    "lines, labels = ax1.get_legend_handles_labels()\n",
    "ax1.legend(lines, labels, bbox_to_anchor = (1.51, 1))"
   ]
  },
  {
   "cell_type": "code",
   "execution_count": null,
   "metadata": {},
   "outputs": [],
   "source": [
    "df3 = pd.crosstab(df_ageranges.AgeRanges, \n",
    "                  df_ageranges.JobRelocateYesNo).apply(lambda r: r/r.sum(), axis = 1)\n",
    "\n",
    "\n",
    "num = len(df_ageranges.AgeRanges.value_counts().index)\n",
    "\n",
    "\n",
    "listaHSV = [(x*1.0/num, 0.5, 0.5) for x in range(num)]\n",
    "listaRGB = list(map(lambda x: colorsys.hsv_to_rgb(*x), listaHSV))\n",
    "\n",
    "\n",
    "ax1 = df3.plot(kind = \"bar\", stacked = True, color = listaRGB, title = \"Realocação por Idade\")\n",
    "lines, labels = ax1.get_legend_handles_labels()\n",
    "ax1.legend(lines,[\"Não\", \"Sim\"], loc = 'best')"
   ]
  },
  {
   "cell_type": "code",
   "execution_count": null,
   "metadata": {},
   "outputs": [],
   "source": [
    "df9 = df.copy()\n",
    "df9 = df9.dropna(subset=[\"HoursLearning\"])\n",
    "df9 = df9[df['Age'].isin(range(0,70))]\n",
    "\n",
    "\n",
    "x = df9.Age\n",
    "y = df9.HoursLearning\n",
    "\n",
    "\n",
    "m, b = np.polyfit(x, y, 1)\n",
    "plt.plot(x, y, '.')\n",
    "plt.plot(x, m*x + b, '-', color = \"red\")\n",
    "plt.xlabel(\"Idade\")\n",
    "plt.ylabel(\"Horas de Treinamento\")\n",
    "plt.title(\"Idade por Horas de Treinamento\")\n",
    "plt.show()"
   ]
  },
  {
   "cell_type": "code",
   "execution_count": null,
   "metadata": {},
   "outputs": [],
   "source": [
    "df5 = df.copy()\n",
    "df5 = df5.dropna(subset=[\"ExpectedEarning\"])\n",
    "df5 = df5[df['MoneyForLearning'].isin(range(0,60000))]\n",
    "\n",
    "\n",
    "x = df5.MoneyForLearning\n",
    "y = df5.ExpectedEarning\n",
    "\n",
    "\n",
    "m, b = np.polyfit(x, y, 1)\n",
    "plt.plot(x, y, '.')\n",
    "plt.plot(x, m*x + b, '-', color = \"red\")\n",
    "plt.xlabel(\"Investimento em Treinamento\")\n",
    "plt.ylabel(\"Expectativa Salarial\")\n",
    "plt.title(\"Investimento em Treinamento vs Expectativa Salarial\")\n",
    "plt.show()"
   ]
  }
 ],
 "metadata": {
  "kernelspec": {
   "display_name": "Python 3",
   "language": "python",
   "name": "python3"
  },
  "language_info": {
   "codemirror_mode": {
    "name": "ipython",
    "version": 3
   },
   "file_extension": ".py",
   "mimetype": "text/x-python",
   "name": "python",
   "nbconvert_exporter": "python",
   "pygments_lexer": "ipython3",
   "version": "3.8.3"
  }
 },
 "nbformat": 4,
 "nbformat_minor": 4
}
