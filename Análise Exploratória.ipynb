{
 "cells": [
  {
   "cell_type": "markdown",
   "metadata": {},
   "source": [
    "# Análise Exploratório com Dados do Kaggle"
   ]
  },
  {
   "cell_type": "code",
   "execution_count": null,
   "metadata": {},
   "outputs": [],
   "source": [
    "import os\n",
    "import subprocess\n",
    "import stat\n",
    "import numpy as np\n",
    "import pandas as pd\n",
    "import seaborn as sns\n",
    "import matplotlib as mat\n",
    "import matplotlib.pyplot as plt\n",
    "from datetime import datetime\n",
    "sns.set(style=\"white\")\n",
    "%matplotlib inline"
   ]
  },
  {
   "cell_type": "code",
   "execution_count": null,
   "metadata": {},
   "outputs": [],
   "source": [
    "#dataset\n",
    "clean_data_path = \"dataset/autos.csv\"\n",
    "df = pd.read_csv(clean_data_path,encoding=\"latin-1\")"
   ]
  },
  {
   "cell_type": "code",
   "execution_count": null,
   "metadata": {},
   "outputs": [],
   "source": [
    "\n",
    "fig, ax = plt.subplots(figsize=(8,6))\n",
    "sns.distplot(df[\"yearOfRegistration\"], color=\"#33cc33\",kde=True, ax=ax)\n",
    "ax.set_title('Distribuição de Veículos com base no Ano de Registro', fontsize= 15)\n",
    "plt.ylabel(\"Densidade (KDE)\", fontsize= 15)\n",
    "plt.xlabel(\"Ano de Registro\", fontsize= 15)\n",
    "plt.show()"
   ]
  },
  {
   "cell_type": "code",
   "execution_count": null,
   "metadata": {},
   "outputs": [],
   "source": [
    "fig.savefig(\"plots/Analise1/vehicle-distribution.png\")"
   ]
  },
  {
   "cell_type": "code",
   "execution_count": null,
   "metadata": {},
   "outputs": [],
   "source": [
    "#cria um Boxplot para avaliar os outliers\n",
    "sns.set_style(\"whitegrid\")\n",
    "fig, ax = plt.subplots(figsize=(8,6))\n",
    "sns.boxplot(x=\"vehicleType\", y=\"price\", data=df)\n",
    "ax.text(5.25,27000,\"Análise de Outliers\",fontsize=18,color=\"r\",ha=\"center\", va=\"center\")\n",
    "ax.xaxis.set_label_text(\"Tipo de Veículo\",fontdict= {'size':14})\n",
    "ax.yaxis.set_label_text(\"Range de Preço\",fontdict= {'size':14})\n",
    "plt.show()"
   ]
  },
  {
   "cell_type": "code",
   "execution_count": null,
   "metadata": {},
   "outputs": [],
   "source": [
    "fig.savefig(\"plots/Analise1/price-vehicleType-boxplot.png\")"
   ]
  },
  {
   "cell_type": "code",
   "execution_count": null,
   "metadata": {},
   "outputs": [],
   "source": [
    "#cria um Count Plot que mostra o número de veículos pertencentes a cada categoria \n",
    "sns.set_style(\"white\")\n",
    "g = sns.catplot(x=\"vehicleType\", data=df, kind=\"count\", palette=\"BuPu\", height=6, aspect=1.5)\n",
    "g.ax.xaxis.set_label_text(\"Tipo de Veículo\",fontdict= {'size':16})\n",
    "g.ax.yaxis.set_label_text(\"Total de Veículos Para Venda\", fontdict= {'size':16})\n",
    "g.ax.set_title(\"Contagem total de veículos à venda conforme o tipo de veículo\",fontdict= {'size':18})\n",
    "# to get the counts on the top heads of the bar\n",
    "for p in g.ax.patches:\n",
    "    g.ax.annotate((p.get_height()), (p.get_x()+0.1, p.get_height()+500))"
   ]
  },
  {
   "cell_type": "code",
   "execution_count": null,
   "metadata": {},
   "outputs": [],
   "source": [
    "g.savefig(\"plots/Analise1/count-vehicleType.png\")"
   ]
  },
  {
   "cell_type": "code",
   "execution_count": null,
   "metadata": {},
   "outputs": [],
   "source": [
    "# Cria um Plot que mostra o número de veículos pertencentes a cada marca\n",
    "sns.set_style(\"whitegrid\")\n",
    "g = sns.catplot(y=\"brand\", data=df, kind=\"count\", palette=\"Reds_r\", height=7, aspect=1.5)\n",
    "g.ax.set_title(\"Veículos Por Marca\",fontdict={'size':18})\n",
    "g.ax.xaxis.set_label_text(\"Número de Veículos\",fontdict= {'size':16})\n",
    "g.ax.yaxis.set_label_text(\"Marca\",fontdict= {'size':16})\n",
    "plt.show()"
   ]
  },
  {
   "cell_type": "code",
   "execution_count": null,
   "metadata": {},
   "outputs": [],
   "source": [
    "g.savefig((\"plots/Analise2/brand-vehicleCount.png\"))"
   ]
  },
  {
   "cell_type": "code",
   "execution_count": null,
   "metadata": {},
   "outputs": [],
   "source": [
    "#Plot com o Preço médio dos veículos com base no tipo de veículo, bem como no tipo de caixa de câmbio\n",
    "\n",
    "fig, ax = plt.subplots(figsize=(8,5))\n",
    "colors = [\"#00e600\", \"#ff8c1a\",\"#a180cc\"]\n",
    "sns.barplot(x=\"vehicleType\", y=\"price\",hue=\"gearbox\", palette=colors, data=df)\n",
    "ax.set_title(\"Preço médio dos veículos por tipo de veículo e tipo de caixa de câmbio\",fontdict= {'size':12})\n",
    "ax.xaxis.set_label_text(\"Tipo de Veículo\",fontdict= {'size':12})\n",
    "ax.yaxis.set_label_text(\"Preço Médio\",fontdict= {'size':12})\n",
    "plt.show()"
   ]
  },
  {
   "cell_type": "code",
   "execution_count": null,
   "metadata": {},
   "outputs": [],
   "source": [
    "fig.savefig(\"plots/Analise2/vehicletype-gearbox-price.png\")"
   ]
  },
  {
   "cell_type": "code",
   "execution_count": null,
   "metadata": {},
   "outputs": [],
   "source": [
    "#Barplot com o Preço médio do veículo por tipo de combustível e tipo de caixa de câmbio\n",
    "\n",
    "fig, ax = plt.subplots(figsize=(8,5))\n",
    "colors = [\"#00e600\", \"#ff8c1a\",\"#a180cc\"]\n",
    "sns.barplot(x=\"fuelType\", y=\"price\",hue=\"gearbox\", palette=\"husl\",data=df)\n",
    "ax.set_title(\"Preço médio do veículo por tipo de combustível e tipo de caixa de câmbio\",fontdict= {'size':12})\n",
    "ax.xaxis.set_label_text(\"Tipo de Combustível\",fontdict= {'size':14})\n",
    "ax.yaxis.set_label_text(\"Preço Médio\",fontdict= {'size':14})\n",
    "plt.show()"
   ]
  },
  {
   "cell_type": "code",
   "execution_count": null,
   "metadata": {},
   "outputs": [],
   "source": [
    "fig.savefig(\"plots/Analise3/fueltype-vehicleType-price.png\")"
   ]
  },
  {
   "cell_type": "code",
   "execution_count": null,
   "metadata": {},
   "outputs": [],
   "source": [
    "#Barplot com a Potência média de um veículo por tipo de veículo e tipo de caixa de câmbio\n",
    "colors = [\"windows blue\", \"amber\", \"greyish\", \"faded green\", \"dusty purple\"]\n",
    "fig, ax = plt.subplots(figsize=(8,5))\n",
    "sns.set_palette(sns.xkcd_palette(colors))\n",
    "sns.barplot(x=\"vehicleType\", y=\"powerPS\",hue=\"gearbox\",data=df)\n",
    "ax.set_title(\"Potência média de um veículo por tipo de veículo e tipo de caixa de câmbio\",fontdict= {'size':12})\n",
    "ax.xaxis.set_label_text(\"Tipo de Veículo\",fontdict= {'size':14})\n",
    "ax.yaxis.set_label_text(\"Potência Média\",fontdict= {'size':14})\n",
    "plt.show()"
   ]
  },
  {
   "cell_type": "code",
   "execution_count": null,
   "metadata": {},
   "outputs": [],
   "source": [
    "fig.savefig(\"plots/Analise3/vehicletype-fueltype-power.png\")"
   ]
  },
  {
   "cell_type": "code",
   "execution_count": null,
   "metadata": {},
   "outputs": [],
   "source": [
    "#dataset\n",
    "clean_data_path = \"dataset/autos.csv\"\n",
    "df = pd.read_csv(clean_data_path,encoding=\"latin-1\")\n",
    "\n",
    "#calcula a média de preço por marca e por veículo\n",
    "trial = pd.DataFrame()\n",
    "for b in list(df[\"brand\"].unique()):\n",
    "    for v in list(df[\"vehicleType\"].unique()):\n",
    "        z = df[(df[\"brand\"] == b) & (df[\"vehicleType\"] == v)][\"price\"].mean()\n",
    "        trial = trial.append(pd.DataFrame({'brand':b , 'vehicleType':v , 'avgPrice':z}, index=[0]))\n",
    "trial = trial.reset_index()\n",
    "del trial[\"index\"]\n",
    "trial[\"avgPrice\"].fillna(0,inplace=True)\n",
    "trial[\"avgPrice\"].isnull().value_counts()\n",
    "trial[\"avgPrice\"] = trial[\"avgPrice\"].astype(int)\n",
    "trial.head(5)"
   ]
  },
  {
   "cell_type": "code",
   "execution_count": null,
   "metadata": {},
   "outputs": [],
   "source": [
    "fig.savefig(\"plots/Analise4/heatmap-price-brand-vehicleType.png\")"
   ]
  }
 ],
 "metadata": {
  "kernelspec": {
   "display_name": "Python 3",
   "language": "python",
   "name": "python3"
  },
  "language_info": {
   "codemirror_mode": {
    "name": "ipython",
    "version": 3
   },
   "file_extension": ".py",
   "mimetype": "text/x-python",
   "name": "python",
   "nbconvert_exporter": "python",
   "pygments_lexer": "ipython3",
   "version": "3.8.3"
  }
 },
 "nbformat": 4,
 "nbformat_minor": 4
}
