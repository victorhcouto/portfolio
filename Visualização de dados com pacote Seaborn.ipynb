{
 "cells": [
  {
   "cell_type": "markdown",
   "metadata": {},
   "source": [
    "# Uso do seborn para visulização do dataset tips"
   ]
  },
  {
   "cell_type": "code",
   "execution_count": 2,
   "metadata": {},
   "outputs": [],
   "source": [
    "import numpy as np\n",
    "import pandas as pd\n",
    "import random\n",
    "import warnings\n",
    "warnings.filterwarnings(\"ignore\")\n",
    "import matplotlib as mat\n",
    "import matplotlib.pyplot as plt\n",
    "%matplotlib inline"
   ]
  },
  {
   "cell_type": "code",
   "execution_count": 5,
   "metadata": {},
   "outputs": [],
   "source": [
    "import seaborn as sea\n",
    "dados = sea.load_dataset(\"tips\")"
   ]
  },
  {
   "cell_type": "code",
   "execution_count": 6,
   "metadata": {},
   "outputs": [
    {
     "data": {
      "image/png": "[encoded data removed]",
      "text/plain": [
       "<Figure size 432x432 with 3 Axes>"
      ]
     },
     "metadata": {
      "needs_background": "light"
     },
     "output_type": "display_data"
    }
   ],
   "source": [
    "sea.jointplot(\"total_bill\", \"tip\", dados, kind = 'reg');"
   ]
  },
  {
   "cell_type": "code",
   "execution_count": null,
   "metadata": {},
   "outputs": [],
   "source": [
    "sea.lmplot(\"total_bill\", \"tip\", dados, col = \"smoker\");"
   ]
  },
  {
   "cell_type": "code",
   "execution_count": null,
   "metadata": {},
   "outputs": [],
   "source": [
    "#lmplot() cria plot com dados e modelos de regressão.\n",
    "sea.lmplot(\"total_bill\", \"tip\", dados, col = \"smoker\");"
   ]
  },
  {
   "cell_type": "code",
   "execution_count": 7,
   "metadata": {},
   "outputs": [],
   "source": [
    "df = pd.DataFrame()\n",
    "# Alimentando o Dataframe com valores aleatórios\n",
    "df['a'] = random.sample(range(1, 100), 25)\n",
    "df['b'] = random.sample(range(1, 100), 25)"
   ]
  },
  {
   "cell_type": "code",
   "execution_count": null,
   "metadata": {},
   "outputs": [],
   "source": [
    "#Scatter Plot\n",
    "sea.lmplot('a', 'b', data = df, fit_reg = True);"
   ]
  },
  {
   "cell_type": "code",
   "execution_count": null,
   "metadata": {},
   "outputs": [],
   "source": [
    "#Density Plot\n",
    "sea.kdeplot(df.b);"
   ]
  },
  {
   "cell_type": "code",
   "execution_count": null,
   "metadata": {},
   "outputs": [],
   "source": [
    "sea.kdeplot(df.b, df.a);\n",
    "sea.distplot(df.a);\n",
    "#Histograma\n",
    "plt.hist(df.a, alpha = .3)\n",
    "sea.rugplot(df.a);"
   ]
  },
  {
   "cell_type": "code",
   "execution_count": null,
   "metadata": {},
   "outputs": [],
   "source": [
    "#Box Plot\n",
    "sea.boxplot([df.b, df.a]);"
   ]
  },
  {
   "cell_type": "code",
   "execution_count": null,
   "metadata": {},
   "outputs": [],
   "source": [
    "sea.violinplot([df.a, df.b]);"
   ]
  },
  {
   "cell_type": "code",
   "execution_count": null,
   "metadata": {},
   "outputs": [],
   "source": [
    "#Heatmap\n",
    "sea.heatmap([df.b, df.a], annot = True, fmt = \"d\");"
   ]
  },
  {
   "cell_type": "code",
   "execution_count": null,
   "metadata": {},
   "outputs": [],
   "source": [
    "#Clustermap\n",
    "sea.clustermap(df);"
   ]
  },
  {
   "cell_type": "code",
   "execution_count": null,
   "metadata": {},
   "outputs": [],
   "source": [
    "sea.palplot(sea.color_palette())\n",
    "sea.palplot(sea.color_palette(\"husl\", 8))\n",
    "sea.palplot(sea.color_palette(\"hls\", 8))"
   ]
  },
  {
   "cell_type": "code",
   "execution_count": null,
   "metadata": {},
   "outputs": [],
   "source": [
    "sea.set(style = \"darkgrid\")\n",
    "\n",
    "dados = sea.load_dataset(\"tips\")\n",
    "g = sea.FacetGrid(dados, row = \"sex\", col = \"time\", margin_titles = True)\n",
    "bins = np.linspace(0, 60, 13)\n",
    "g.map(plt.hist, \"total_bill\", color = \"steelblue\", bins = bins, lw = 0);"
   ]
  },
  {
   "cell_type": "code",
   "execution_count": null,
   "metadata": {},
   "outputs": [],
   "source": [
    "from scipy.stats import kendalltau\n",
    "sea.set(style=\"ticks\")\n",
    "\n",
    "rs = np.random.RandomState(11)\n",
    "x = rs.gamma(2, size = 1000)\n",
    "y = -.5 * x + rs.normal(size = 1000)\n",
    "sea.jointplot(x, y, kind = \"hex\", stat_func = kendalltau, color = \"#4CB391\");"
   ]
  },
  {
   "cell_type": "code",
   "execution_count": null,
   "metadata": {},
   "outputs": [],
   "source": [
    "sea.set(style = \"white\", palette = \"muted\")\n",
    "f, axes = plt.subplots(2, 2, figsize = (7, 7), sharex = True)\n",
    "sea.despine(left = True)\n",
    "\n",
    "rs = np.random.RandomState(10)\n",
    "\n",
    "b, g, r, p = sea.color_palette(\"muted\", 4)\n",
    "\n",
    "d = rs.normal(size = 100)\n",
    "\n",
    "sea.distplot(d, kde = False, color = b, ax = axes[0, 0])\n",
    "sea.distplot(d, hist = False, rug = True, color = r, ax = axes[0, 1])\n",
    "sea.distplot(d, hist = False, color = g, kde_kws = {\"shade\": True}, ax = axes[1, 0])\n",
    "sea.distplot(d, color = p, ax = axes[1, 1])\n",
    "\n",
    "plt.setp(axes, yticks = [])\n",
    "plt.tight_layout()"
   ]
  },
  {
   "cell_type": "code",
   "execution_count": null,
   "metadata": {},
   "outputs": [],
   "source": [
    "sea.set(style = \"darkgrid\")\n",
    "df = sea.load_dataset(\"titanic\")\n",
    "\n",
    "pal = dict(male = \"#6495ED\", female = \"#F08080\")\n",
    "g = sea.lmplot(\"age\", \"survived\", col = \"sex\", hue = \"sex\", data = df, palette = pal, \n",
    "               y_jitter = .02, logistic = True)\n",
    "g.set(xlim=(0, 80), ylim = (-.05, 1.05));"
   ]
  },
  {
   "cell_type": "code",
   "execution_count": null,
   "metadata": {},
   "outputs": [],
   "source": [
    "sea.set(style = \"darkgrid\")\n",
    "df = sea.load_dataset(\"iris\")\n",
    "sea.pairplot(df, hue = \"species\", size = 2.5);"
   ]
  },
  {
   "cell_type": "code",
   "execution_count": null,
   "metadata": {},
   "outputs": [],
   "source": [
    "sea.set(style = \"darkgrid\")\n",
    "tips = sea.load_dataset(\"tips\")\n",
    "color = sea.color_palette()[2]\n",
    "g = sea.jointplot(\"total_bill\", \"tip\", data = tips, kind = \"reg\", xlim = (0, 60), \n",
    "                  ylim = (0, 12), color = color, size = 7);"
   ]
  }
 ],
 "metadata": {
  "kernelspec": {
   "display_name": "Python 3",
   "language": "python",
   "name": "python3"
  },
  "language_info": {
   "codemirror_mode": {
    "name": "ipython",
    "version": 3
   },
   "file_extension": ".py",
   "mimetype": "text/x-python",
   "name": "python",
   "nbconvert_exporter": "python",
   "pygments_lexer": "ipython3",
   "version": "3.8.3"
  }
 },
 "nbformat": 4,
 "nbformat_minor": 4
}
